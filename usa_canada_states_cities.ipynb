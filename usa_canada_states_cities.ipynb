{
 "cells": [
  {
   "cell_type": "markdown",
   "id": "e396f522",
   "metadata": {},
   "source": [
    "# USA & CANADA STATES/PROVINCES AND CITIES"
   ]
  },
  {
   "cell_type": "code",
   "execution_count": 1,
   "id": "33014831",
   "metadata": {},
   "outputs": [],
   "source": [
    "# The US.txt/CA.txt files from the Geonames dataset typically contain the following columns:\n",
    "# country code: ISO country code\n",
    "# postal code: Postal code format of the place. Note that in the US, postal codes are ZIP codes.\n",
    "# place name: Name of the place (usually a city or town)\n",
    "# admin name1: Name of the first-level administrative division (state)\n",
    "# admin code1: ISO code for the first-level administrative division (state)\n",
    "# admin name2: Name of the second-level administrative division (county)\n",
    "# admin code2: ISO code for the second-level administrative division (county)\n",
    "# admin name3: Name of the third-level administrative division\n",
    "# admin code3: ISO code for the third-level administrative division\n",
    "# latitude: Latitude of the place\n",
    "# longitude: Longitude of the place\n",
    "# accuracy: Accuracy of the location coordinates"
   ]
  },
  {
   "cell_type": "code",
   "execution_count": 2,
   "id": "b42efa40",
   "metadata": {},
   "outputs": [],
   "source": [
    "import requests\n",
    "import zipfile\n",
    "import pandas as pd"
   ]
  },
  {
   "cell_type": "code",
   "execution_count": 3,
   "id": "753adfb0",
   "metadata": {},
   "outputs": [],
   "source": [
    "def get_canada_provinces_cities():\n",
    "    # Download and extract the dataset\n",
    "    url = \"http://download.geonames.org/export/zip/CA.zip\"\n",
    "    r = requests.get(url)\n",
    "    with open(\"CA.zip\", \"wb\") as f:\n",
    "        f.write(r.content)\n",
    "\n",
    "    with zipfile.ZipFile(\"CA.zip\", \"r\") as zip_ref:\n",
    "        zip_ref.extractall(\"CA\")\n",
    "\n",
    "        \n",
    "def get_usa_states_cities():\n",
    "    # Download and extract the dataset\n",
    "    url = \"http://download.geonames.org/export/zip/US.zip\"\n",
    "    r = requests.get(url)\n",
    "    with open(\"US.zip\", \"wb\") as f:\n",
    "        f.write(r.content)\n",
    "\n",
    "    with zipfile.ZipFile(\"US.zip\", \"r\") as zip_ref:\n",
    "        zip_ref.extractall(\"US\")\n",
    "        \n",
    "\n",
    "def country_state_city_table():      \n",
    "    column_names = [\n",
    "                   \"country_code\",\n",
    "                   \"postal_code\",\n",
    "                   \"city\",\n",
    "                   \"state\",\n",
    "                   \"state_code\",\n",
    "                   \"county\",\n",
    "                   \"county_code\",\n",
    "                   \"admin_name3\",\n",
    "                   \"admin_code3\",\n",
    "                   \"latitude\",\n",
    "                   \"longitude\",\n",
    "                   \"accuracy\"\n",
    "    ]\n",
    "    \n",
    "    usa_df = pd.read_csv(\"US/US.txt\", delimiter=\"\\t\", names=column_names, usecols=[\"country_code\", \"state\", \"city\", \"state_code\"])\n",
    "    ca_df = pd.read_csv(\"CA/CA.txt\", delimiter=\"\\t\", names=column_names, usecols=[\"country_code\", \"state\", \"city\", \"state_code\"])\n",
    "    \n",
    "    result_df = pd.concat([usa_df, ca_df], axis=0)\n",
    "    \n",
    "    result_df.to_csv(\"country_state_city.csv\", index=False)\n",
    "\n",
    "    return result_df\n",
    "\n",
    "\n",
    "def main():\n",
    "    \n",
    "    get_canada_provinces_cities()\n",
    "    \n",
    "    get_usa_states_cities()\n",
    "    \n",
    "    result_df = country_state_city_table()\n",
    "    \n",
    "    \n",
    "if __name__ == \"__main__\":\n",
    "    main()"
   ]
  },
  {
   "cell_type": "code",
   "execution_count": null,
   "id": "86487f44",
   "metadata": {},
   "outputs": [],
   "source": []
  }
 ],
 "metadata": {
  "kernelspec": {
   "display_name": "Pyspark 2",
   "language": "python",
   "name": "pyspark2"
  },
  "language_info": {
   "codemirror_mode": {
    "name": "ipython",
    "version": 3
   },
   "file_extension": ".py",
   "mimetype": "text/x-python",
   "name": "python",
   "nbconvert_exporter": "python",
   "pygments_lexer": "ipython3",
   "version": "3.6.12"
  }
 },
 "nbformat": 4,
 "nbformat_minor": 5
}
